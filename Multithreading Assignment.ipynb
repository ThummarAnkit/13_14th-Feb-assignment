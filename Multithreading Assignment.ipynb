{
 "cells": [
  {
   "cell_type": "markdown",
   "id": "80f34025",
   "metadata": {},
   "source": [
    "# Q1. What is multithreading in python? Why is it used? Name the module used to handle threads in python."
   ]
  },
  {
   "cell_type": "markdown",
   "id": "037f9816",
   "metadata": {},
   "source": [
    "__Ans. :__<br>\n",
    "\n",
    "Multithreading refers to concurrently executing multiple threads by rapidly switching the control of the CPU between threads (called context switching). The Python Global Interpreter Lock limits one thread to run at a time even if the machine contains multiple processors.\n",
    "<br>\n",
    "\n",
    "Multithreading in Python enables CPUs to run different parts(threads) of a process concurrently to maximize CPU utilization. Multithreading enables CPUs to run different parts(threads) of a process concurrently.\n",
    "<br>\n",
    "\n",
    "The module used to handle threads in Python is called __threading__. It provides a simple and intuitive API for creating and managing threads. The __threading__ module allows you to create and start new threads, as well as coordinate their execution and communication with other threads in a program. It also provides several synchronization primitives such as locks, semaphores, and condition variables, which can be used to coordinate access to shared resources and avoid race conditions."
   ]
  },
  {
   "cell_type": "markdown",
   "id": "689139c6",
   "metadata": {},
   "source": [
    "# Q2. Why threading module used? Write the use of the following functions:\n",
    "1. activeCount()\n",
    "2. currentThread()\n",
    "3. enumerate()"
   ]
  },
  {
   "cell_type": "markdown",
   "id": "7b123eb0",
   "metadata": {},
   "source": [
    "__Ans. :__<br>\n",
    "\n",
    "The threading module in Python is used to create and manage threads in a program. It provides an easy-to-use interface for creating and running threads, and includes several synchronization primitives to coordinate access to shared resources and avoid race conditions.\n",
    "\n",
    "Here are the uses of some of the functions provided by the threading module:\n",
    "\n",
    "1. __activeCount()__: This function returns the number of currently active threads in the program, including the main thread. It can be used to monitor the number of threads and detect potential issues such as thread leaks or excessive thread creation.\n",
    "<br>\n",
    "\n",
    "2. __currentThread()__: This function returns a reference to the current thread object. The thread object provides access to various attributes of the thread, such as its name, ID, and state. This function can be used to identify the current thread and perform operations specific to that thread.\n",
    "<br>\n",
    "\n",
    "3. __enumerate()__: This function returns a list of all currently active thread objects. Each thread object in the list can be used to access its attributes and perform operations on the thread. This function can be used to monitor the state of all threads in a program and detect potential issues such as deadlock or livelock."
   ]
  },
  {
   "cell_type": "markdown",
   "id": "9b6bd76f",
   "metadata": {},
   "source": [
    "# Q3. Explain the following functions:\n",
    "1. run()\n",
    "2. start()\n",
    "3. join()\n",
    "4. isAlive()"
   ]
  },
  {
   "cell_type": "markdown",
   "id": "94f611b8",
   "metadata": {},
   "source": [
    "__Ans. :__<br>\n",
    "\n",
    "1. __run()__: This function is called when a thread is started using the start() method. It is the method where the code that runs in the thread is defined. This method should be overridden by the subclass of Thread class to implement the thread's behavior.\n",
    "<br>\n",
    "\n",
    "2. __start()__: This method starts the execution of the thread by calling the run() method. When this method is called, a new thread is created and the run() method is called in that new thread. The main thread and the new thread then run concurrently.\n",
    "<br>\n",
    "\n",
    "3. __join()__: This method blocks the calling thread until the thread whose join() method is called has finished executing. This is useful when one thread depends on the result of another thread before proceeding. For example, the main thread may wait for worker threads to complete before collecting and processing their results.\n",
    "<br>\n",
    "\n",
    "4. __isAlive()__: This method returns a Boolean value indicating whether the thread is still executing. If the thread has finished executing or has not yet started, this method will return False. Otherwise, it will return True. This can be useful for checking the status of a thread and determining if it is safe to perform certain operations on it."
   ]
  },
  {
   "cell_type": "markdown",
   "id": "678322cf",
   "metadata": {},
   "source": [
    "# Q4. Write a python program to create two threads. Thread one must print the list of squares and thread two must print the list of cubes."
   ]
  },
  {
   "cell_type": "code",
   "execution_count": 1,
   "id": "5e51f98e",
   "metadata": {},
   "outputs": [
    {
     "name": "stdout",
     "output_type": "stream",
     "text": [
      "1 squared is 11 cubed is 1\n",
      "\n",
      "2 squared is 42 cubed is 8\n",
      "\n",
      "3 squared is 93 cubed is 27\n",
      "\n",
      "4 cubed is 644 squared is 16\n",
      "\n",
      "5 squared is 255 cubed is 125\n",
      "\n",
      "6 cubed is 2166 squared is 36\n",
      "\n",
      "7 squared is 497 cubed is 343\n",
      "\n",
      "8 cubed is 5128 squared is 64\n",
      "\n",
      "9 cubed is 7299 squared is 81\n",
      "\n",
      "10 squared is 10010 cubed is 1000\n",
      "\n"
     ]
    }
   ],
   "source": [
    "import threading,time\n",
    "\n",
    "def print_squares():\n",
    "    for i in range(1, 11):\n",
    "        print(f\"{i} squared is {i**2}\")\n",
    "        time.sleep(1)\n",
    "\n",
    "def print_cubes():\n",
    "    for i in range(1, 11):\n",
    "        print(f\"{i} cubed is {i**3}\")\n",
    "        time.sleep(1)\n",
    "\n",
    "if __name__ == \"__main__\":\n",
    "    t1 = threading.Thread(target=print_squares)\n",
    "    t2 = threading.Thread(target=print_cubes)\n",
    "\n",
    "    t1.start()\n",
    "    t2.start()\n",
    "\n",
    "    t1.join()\n",
    "    t2.join()\n"
   ]
  },
  {
   "cell_type": "markdown",
   "id": "1ded7e43",
   "metadata": {},
   "source": [
    "# Q5. State advantages and disadvantages of multithreading."
   ]
  },
  {
   "cell_type": "markdown",
   "id": "e693611c",
   "metadata": {},
   "source": [
    "__Ans. :__<br>\n",
    "\n",
    "Advantages of Multithreading :<br>\n",
    "\n",
    "1. Improved Performance\n",
    "2. Efficient Resource Utilization\n",
    "3. Enhanced Responsiveness\n",
    "4. Simplified Code\n",
    "\n",
    "Disadvantages of Multithreading :<br>\n",
    "\n",
    "1. Synchronization Issues\n",
    "2. Increased Complexity\n",
    "3. Overhead\n",
    "4. Difficulty in Debugging"
   ]
  },
  {
   "cell_type": "markdown",
   "id": "1e6d992b",
   "metadata": {},
   "source": [
    "# Q6. Explain deadlocks and race conditions."
   ]
  },
  {
   "cell_type": "markdown",
   "id": "eaba2bfb",
   "metadata": {},
   "source": [
    "__Ans. :__<br>\n",
    "\n",
    "Deadlocks and race conditions are two common concurrency issues that can occur in multithreaded Python programs.\n",
    "\n",
    "A deadlock occurs when two or more threads are blocked and waiting for each other to release a resource, resulting in a situation where none of the threads can proceed. Deadlocks can be caused by improper resource locking and unlocking or improper resource sharing.\n",
    "\n",
    "For example, consider a scenario where Thread 1 acquires lock A and Thread 2 acquires lock B. Thread 1 then tries to acquire lock B, while Thread 2 tries to acquire lock A. This situation can result in a deadlock, where neither thread can proceed until the other releases its lock.\n",
    "\n",
    "Race conditions occur when multiple threads access and modify shared data simultaneously, leading to unpredictable behavior or results. Race conditions can be caused by improper synchronization, such as when threads don't properly coordinate access to shared resources.\n",
    "\n",
    "For example, consider a scenario where two threads are incrementing a shared variable at the same time. If both threads read the variable, increment it, and then write it back, there's a chance that they will overwrite each other's changes, resulting in incorrect results.\n",
    "\n",
    "To avoid deadlocks and race conditions in Python, you can use synchronization primitives such as locks, semaphores, and barriers to coordinate access to shared resources. You can also use thread-safe data structures and design your program to minimize shared state as much as possible.\n",
    "\n",
    "In summary, deadlocks and race conditions are two common concurrency issues that can occur in multithreaded Python programs. Proper synchronization and resource management can help prevent these issues and ensure that your program runs correctly and efficiently."
   ]
  },
  {
   "cell_type": "code",
   "execution_count": null,
   "id": "2198fbf5",
   "metadata": {},
   "outputs": [],
   "source": []
  }
 ],
 "metadata": {
  "kernelspec": {
   "display_name": "Python 3 (ipykernel)",
   "language": "python",
   "name": "python3"
  },
  "language_info": {
   "codemirror_mode": {
    "name": "ipython",
    "version": 3
   },
   "file_extension": ".py",
   "mimetype": "text/x-python",
   "name": "python",
   "nbconvert_exporter": "python",
   "pygments_lexer": "ipython3",
   "version": "3.9.7"
  }
 },
 "nbformat": 4,
 "nbformat_minor": 5
}
